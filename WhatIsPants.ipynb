{
 "cells": [
  {
   "cell_type": "markdown",
   "id": "d28b1e78-e57e-465a-9e32-4bc03bef7761",
   "metadata": {},
   "source": [
    "## Set up conda env"
   ]
  },
  {
   "cell_type": "code",
   "execution_count": null,
   "id": "36a3a5f8-47c2-4ec0-be57-5d3670de246f",
   "metadata": {},
   "outputs": [],
   "source": [
    "conda create -n whatispants python=3.11"
   ]
  },
  {
   "cell_type": "code",
   "execution_count": null,
   "id": "c10ed35e-84c4-41e9-9a12-0c8e1761c2b5",
   "metadata": {},
   "outputs": [],
   "source": []
  }
 ],
 "metadata": {
  "jupytext": {
   "formats": "ipynb,md"
  },
  "kernelspec": {
   "display_name": "WhatIsPants",
   "language": "python",
   "name": "whatispants"
  },
  "language_info": {
   "codemirror_mode": {
    "name": "ipython",
    "version": 3
   },
   "file_extension": ".py",
   "mimetype": "text/x-python",
   "name": "python",
   "nbconvert_exporter": "python",
   "pygments_lexer": "ipython3",
   "version": "3.10.13"
  }
 },
 "nbformat": 4,
 "nbformat_minor": 5
}
